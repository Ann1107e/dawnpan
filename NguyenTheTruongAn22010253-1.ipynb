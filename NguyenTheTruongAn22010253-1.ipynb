{
  "nbformat": 4,
  "nbformat_minor": 0,
  "metadata": {
    "colab": {
      "provenance": []
    },
    "kernelspec": {
      "name": "python3",
      "display_name": "Python 3"
    },
    "language_info": {
      "name": "python"
    }
  },
  "cells": [
    {
      "cell_type": "code",
      "execution_count": null,
      "metadata": {
        "id": "U1uXfqEmpk_r",
        "colab": {
          "base_uri": "https://localhost:8080/"
        },
        "outputId": "6fcd45be-87d6-4cc7-99ac-e8ad9087ecb4"
      },
      "outputs": [
        {
          "output_type": "stream",
          "name": "stdout",
          "text": [
            "324\n",
            "324\n"
          ]
        }
      ],
      "source": [
        "# @title E\n",
        "n=int(input())\n",
        "print(n)"
      ]
    },
    {
      "cell_type": "code",
      "source": [
        "# @title F\n",
        "n=int(input())\n",
        "m=int(input())\n",
        "print(n/m)\n"
      ],
      "metadata": {
        "colab": {
          "base_uri": "https://localhost:8080/"
        },
        "id": "Z3eQ3AgDAmRI",
        "outputId": "bc3988b3-4a3e-45df-9efd-40ad14df995b"
      },
      "execution_count": null,
      "outputs": [
        {
          "output_type": "stream",
          "name": "stdout",
          "text": [
            "42\n",
            "6\n",
            "7.0\n"
          ]
        }
      ]
    },
    {
      "cell_type": "code",
      "source": [
        "# @title G\n",
        "n=int(input())\n",
        "m=math.sqrt(n)\n",
        "print('%0.3f'%m)"
      ],
      "metadata": {
        "colab": {
          "base_uri": "https://localhost:8080/"
        },
        "id": "zQJQy1WpAmZ_",
        "outputId": "30c910bf-06e6-45bf-b2d2-74ad9e22a603"
      },
      "execution_count": null,
      "outputs": [
        {
          "output_type": "stream",
          "name": "stdout",
          "text": [
            "34\n",
            "5.831\n"
          ]
        }
      ]
    },
    {
      "cell_type": "code",
      "source": [
        "# @title A\n",
        "a = float(input(\"Nhập hệ số a: \"))\n",
        "b = float(input(\"Nhập hệ số b: \"))\n",
        "if a == 0:\n",
        "    if b == 0:\n",
        "        print('vo nghiem')\n",
        "    else:\n",
        "        print('vo nghiem')\n",
        "else:\n",
        "    x = -b / a\n",
        "    print('%0.3f'%x)"
      ],
      "metadata": {
        "colab": {
          "base_uri": "https://localhost:8080/"
        },
        "id": "IVop7-ZcDENQ",
        "outputId": "21183840-bfc4-49ae-90e8-06623fb1cf58"
      },
      "execution_count": null,
      "outputs": [
        {
          "output_type": "stream",
          "name": "stdout",
          "text": [
            "Nhập hệ số a: 3\n",
            "Nhập hệ số b: 5\n",
            "-1.667\n"
          ]
        }
      ]
    },
    {
      "cell_type": "code",
      "source": [
        "# @title H\n",
        "number = int(input(\"Nhập số nguyên:\"))\n",
        "\n",
        "if number % 2 == 0:\n",
        "    print('YES')\n",
        "else:\n",
        "    print('NO')\n"
      ],
      "metadata": {
        "colab": {
          "base_uri": "https://localhost:8080/"
        },
        "id": "3oi6_j06B0Kg",
        "outputId": "1d3ec64e-759d-4732-d73f-6117371cf591"
      },
      "execution_count": null,
      "outputs": [
        {
          "output_type": "stream",
          "name": "stdout",
          "text": [
            "Nhập số nguyên:25\n",
            "NO\n"
          ]
        }
      ]
    },
    {
      "cell_type": "code",
      "source": [
        "# @title I\n",
        "n = int(input(\"Nhập số tự nhiên: \"))\n",
        "\n",
        "if n >= 0 and (int(n**0.5))**2 == n:\n",
        "    print('YES')\n",
        "else:\n",
        "    print('NO')\n"
      ],
      "metadata": {
        "colab": {
          "base_uri": "https://localhost:8080/"
        },
        "id": "bBovOooSCTlf",
        "outputId": "d3183da1-9d13-4921-97e5-88c72af0b6f0"
      },
      "execution_count": null,
      "outputs": [
        {
          "output_type": "stream",
          "name": "stdout",
          "text": [
            "Nhập số tự nhiên: 23\n",
            "NO\n"
          ]
        }
      ]
    },
    {
      "cell_type": "code",
      "source": [
        "# @title D\n",
        "n=int(input())\n",
        "m=int(input())\n",
        "print(n%m)"
      ],
      "metadata": {
        "colab": {
          "base_uri": "https://localhost:8080/"
        },
        "id": "eyVY56EDCiWA",
        "outputId": "d68b5369-e1b0-4f55-dce8-d65908a98378"
      },
      "execution_count": null,
      "outputs": [
        {
          "output_type": "stream",
          "name": "stdout",
          "text": [
            "25\n",
            "5\n",
            "0\n"
          ]
        }
      ]
    },
    {
      "cell_type": "code",
      "source": [
        "# @title B\n",
        "import math\n",
        "x = float(input(\"Nhập số thực x:\"))\n",
        "cos_x =math.cos(x)\n",
        "sin_x =math.sin(x)\n",
        "if 0 < x < math.pi/2:\n",
        "    tan_x = math.tan(x)\n",
        "    cot_x = 1 / tan_x\n",
        "else:\n",
        "    tan_x = \"k ton tai\"\n",
        "    cot_x = \"k ton tai\"\n",
        "print('%0.3f'%cos_x, '%0.3f'%sin_x, '%0.3f'%tan_x, '%0.3f'%cot_x)\n"
      ],
      "metadata": {
        "colab": {
          "base_uri": "https://localhost:8080/"
        },
        "id": "0Mz-7txWEMtp",
        "outputId": "d1733f6c-30f3-4a0d-e5ff-4fdd3632e832"
      },
      "execution_count": null,
      "outputs": [
        {
          "output_type": "stream",
          "name": "stdout",
          "text": [
            "Nhập số thực x:1\n",
            "0.540 0.841 1.557 0.642\n"
          ]
        }
      ]
    },
    {
      "cell_type": "code",
      "source": [
        "# @title C\n",
        "import math\n",
        "x = float(input(\"Nhập số thực x: \"))\n",
        "e= math.exp(x)\n",
        "ln_x = math.log(x)\n",
        "log10_x = math.log10(x)\n",
        "log2_x = math.log2(x)\n",
        "\n",
        "# In ra kết quả\n",
        "print('%0.3f'%e, '%0.3f'%ln_x, '%0.3f'%log10_x, '%0.3f'%log2_x)\n"
      ],
      "metadata": {
        "colab": {
          "base_uri": "https://localhost:8080/"
        },
        "id": "q9P7LC4NGhoq",
        "outputId": "a87fb406-4c47-42c0-ed20-d344fba58364"
      },
      "execution_count": null,
      "outputs": [
        {
          "output_type": "stream",
          "name": "stdout",
          "text": [
            "Nhập số thực x: 23\n",
            "9744803446.249 3.135 1.362 4.524\n"
          ]
        }
      ]
    }
  ]
}